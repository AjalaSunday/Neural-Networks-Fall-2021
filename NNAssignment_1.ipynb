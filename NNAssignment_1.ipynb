{
  "nbformat": 4,
  "nbformat_minor": 0,
  "metadata": {
    "colab": {
      "name": "NNAssignment 1.ipynb",
      "provenance": [],
      "collapsed_sections": [],
      "authorship_tag": "ABX9TyMGDjpP1xx6NYRcZikeS+tX",
      "include_colab_link": true
    },
    "kernelspec": {
      "name": "python3",
      "display_name": "Python 3"
    },
    "language_info": {
      "name": "python"
    }
  },
  "cells": [
    {
      "cell_type": "markdown",
      "metadata": {
        "id": "view-in-github",
        "colab_type": "text"
      },
      "source": [
        "<a href=\"https://colab.research.google.com/github/AjalaSunday/Neural-Networks-Fall-2021/blob/main/NNAssignment_1.ipynb\" target=\"_parent\"><img src=\"https://colab.research.google.com/assets/colab-badge.svg\" alt=\"Open In Colab\"/></a>"
      ]
    },
    {
      "cell_type": "markdown",
      "metadata": {
        "id": "xvst-mT4KGcE"
      },
      "source": [
        "**Question 1** \n",
        "\n",
        "Write a program which will find all such numbers which are divisible by 7 but are not a multiple\n",
        "of 5, between 2000 and 3200 (both included)."
      ]
    },
    {
      "cell_type": "code",
      "metadata": {
        "id": "tmVZp-xL3R_q",
        "colab": {
          "base_uri": "https://localhost:8080/"
        },
        "outputId": "94169c0a-5a67-47c9-9be6-a5b447900a65"
      },
      "source": [
        "Numbers = []\n",
        "for Num in range(2000, 3201):\n",
        "  if (Num%7==0) and (Num%5!=0):\n",
        "    Numbers.append(Num)\n",
        "\n",
        "print(Numbers)"
      ],
      "execution_count": 5,
      "outputs": [
        {
          "output_type": "stream",
          "name": "stdout",
          "text": [
            "[2002, 2009, 2016, 2023, 2037, 2044, 2051, 2058, 2072, 2079, 2086, 2093, 2107, 2114, 2121, 2128, 2142, 2149, 2156, 2163, 2177, 2184, 2191, 2198, 2212, 2219, 2226, 2233, 2247, 2254, 2261, 2268, 2282, 2289, 2296, 2303, 2317, 2324, 2331, 2338, 2352, 2359, 2366, 2373, 2387, 2394, 2401, 2408, 2422, 2429, 2436, 2443, 2457, 2464, 2471, 2478, 2492, 2499, 2506, 2513, 2527, 2534, 2541, 2548, 2562, 2569, 2576, 2583, 2597, 2604, 2611, 2618, 2632, 2639, 2646, 2653, 2667, 2674, 2681, 2688, 2702, 2709, 2716, 2723, 2737, 2744, 2751, 2758, 2772, 2779, 2786, 2793, 2807, 2814, 2821, 2828, 2842, 2849, 2856, 2863, 2877, 2884, 2891, 2898, 2912, 2919, 2926, 2933, 2947, 2954, 2961, 2968, 2982, 2989, 2996, 3003, 3017, 3024, 3031, 3038, 3052, 3059, 3066, 3073, 3087, 3094, 3101, 3108, 3122, 3129, 3136, 3143, 3157, 3164, 3171, 3178, 3192, 3199]\n"
          ]
        }
      ]
    },
    {
      "cell_type": "markdown",
      "metadata": {
        "id": "lZqZA7RgMGQA"
      },
      "source": [
        "**Question 2** \n",
        "\n",
        "Write a function to generate and print the first (n+1) Fibonacci numbers. The main program\n",
        "should ask the user to enter the n and then pass it on to the function."
      ]
    },
    {
      "cell_type": "code",
      "metadata": {
        "colab": {
          "base_uri": "https://localhost:8080/"
        },
        "id": "QdnQTzkELVZE",
        "outputId": "6bebb4f7-23dc-40bb-a6ea-ebf092cd759c"
      },
      "source": [
        "def Fibonacci_numbers(): \n",
        "  #with seed values F0=0, F1=1\n",
        "  \n",
        "  F_0 = 0\n",
        "  F_1 = 1\n",
        "\n",
        "  count = 0\n",
        "  Num = int(input(\"Enter any positive integer n to generate the first (n+1) Fibonacci numbers :\"))\n",
        "  if Num<0:\n",
        "    print(\"Incorrect input, please enter a positive integer\")\n",
        "  elif Num is 0:\n",
        "    print(\"Fibonacci numbers sequence: 0\")\n",
        "  elif Num is 1:\n",
        "    print(\"Fibonacci numbers sequence: 0, 1\")\n",
        "  else :\n",
        "    print('The first (n+1) Fibonacci numbers sequence:')\n",
        "    \n",
        "    while count < (Num+1):\n",
        "      print(F_0)\n",
        "      F_nth = F_0 + F_1\n",
        "      # update values\n",
        "      F_0 = F_1\n",
        "      F_1 = F_nth\n",
        "      count += 1\n",
        "\n",
        "  \n",
        "\n",
        "Fibonacci_numbers()"
      ],
      "execution_count": 43,
      "outputs": [
        {
          "output_type": "stream",
          "name": "stdout",
          "text": [
            "Enter any positive integer n to generate the first (n+1) Fibonacci numbers :14\n",
            "The first (n+1) Fibonacci numbers sequence:\n",
            "0\n",
            "1\n",
            "1\n",
            "2\n",
            "3\n",
            "5\n",
            "8\n",
            "13\n",
            "21\n",
            "34\n",
            "55\n",
            "89\n",
            "144\n",
            "233\n",
            "377\n"
          ]
        }
      ]
    },
    {
      "cell_type": "markdown",
      "metadata": {
        "id": "2WWu3BpGgGrh"
      },
      "source": [
        "**Question 3** \n",
        "\n",
        "Write a program to generate a random 20x3 matrix representing Cartesian coordinates in a\n",
        "three dimensional space and then convert them into spherical coordinates."
      ]
    },
    {
      "cell_type": "code",
      "metadata": {
        "colab": {
          "base_uri": "https://localhost:8080/"
        },
        "id": "ALDBy-dBPhrq",
        "outputId": "586a3395-5544-4ad5-e9ce-983f022fc816"
      },
      "source": [
        "\n",
        "import numpy as np\n",
        "\n",
        "Cartesian_coord = np.random.randn(20,3)\n",
        "\n",
        "radial_distance  = np.sqrt(np.sum(Cartesian_coord**2, axis=1))\n",
        "polar_angle = np.arccos(Cartesian_coord[:,2]/radial_distance)\n",
        "azimuthal_angle = np.arctan(Cartesian_coord[:,1]/Cartesian_coord[:,0])\n",
        "print('A random 20x3 matrix representing Cartesian coordinates =')\n",
        "print(Cartesian_coord)\n",
        "i=0\n",
        "spherical_coord =[]\n",
        "while i <20:\n",
        "  spherical_matrix = [radial_distance[i], polar_angle[i], azimuthal_angle[i]]\n",
        "  spherical_coord.append(spherical_matrix)\n",
        "  i+=1\n",
        "spherical_coord = np.array(spherical_coord)\n",
        "print('converting the Cartesian coordinates into spherical coordinates gives ')\n",
        "print(spherical_coord)\n",
        "\n"
      ],
      "execution_count": 110,
      "outputs": [
        {
          "output_type": "stream",
          "name": "stdout",
          "text": [
            "A random 20x3 matrix representing Cartesian coordinates =\n",
            "[[-0.84030654 -0.01849177  0.18521432]\n",
            " [ 0.39467372  1.24075002 -0.41787563]\n",
            " [-0.55346037 -0.0602434   1.58225586]\n",
            " [ 0.92353457  0.42553025 -0.83965587]\n",
            " [ 0.56255343  0.22989286 -1.19483657]\n",
            " [ 0.6331809   0.63101948  0.1491045 ]\n",
            " [ 0.9376626  -0.36527779  0.50669053]\n",
            " [-0.67631849  1.00276735  1.56401483]\n",
            " [-2.20219487  0.40355478  0.87934027]\n",
            " [-1.53492035  0.0236017   0.52138104]\n",
            " [-0.12917958  2.60673675 -0.31503332]\n",
            " [ 0.21894555 -0.38092561 -1.08650549]\n",
            " [ 3.59376696 -1.31681325 -0.49085769]\n",
            " [-0.93554638 -1.0107482   1.02229347]\n",
            " [ 0.56926105 -0.4562416   1.21018007]\n",
            " [-0.38489402  1.45805362 -0.46700779]\n",
            " [-0.49156125  0.55701127  1.42856354]\n",
            " [ 0.44413965  0.49729235  0.54362552]\n",
            " [ 1.7351049   0.25803688 -1.12469909]\n",
            " [-0.55970817  0.29910615 -1.04312954]]\n",
            "converting the Cartesian coordinates into spherical coordinates gives \n",
            "[[ 0.86067495  1.35390319  0.02200243]\n",
            " [ 1.36742385  1.88135785  1.26282433]\n",
            " [ 1.67734352  0.33832912  0.10842177]\n",
            " [ 1.31871683  2.26103584  0.43176803]\n",
            " [ 1.3405042   2.67107493  0.38794919]\n",
            " [ 0.90627578  1.40552048  0.78368846]\n",
            " [ 1.12666512  1.10433785 -0.37147591]\n",
            " [ 1.97714224  0.65827577 -0.97742319]\n",
            " [ 2.40536027  1.19654553 -0.18124028]\n",
            " [ 1.62122661  1.2433811  -0.01537529]\n",
            " [ 2.62887996  1.69092058 -1.52128078]\n",
            " [ 1.17197937  2.75731315 -1.04913307]\n",
            " [ 3.85876915  1.69834768 -0.3512237 ]\n",
            " [ 1.71520928  0.93226503  0.82401741]\n",
            " [ 1.41306417  0.54249627 -0.67563231]\n",
            " [ 1.57865767  1.87111631 -1.31270581]\n",
            " [ 1.61018253  0.47954279 -0.8477355 ]\n",
            " [ 0.86028391  0.88677593  0.8417977 ]\n",
            " [ 2.08377544  2.14092577  0.14763341]\n",
            " [ 1.22100653  2.59503622 -0.49078477]]\n"
          ]
        }
      ]
    },
    {
      "cell_type": "markdown",
      "metadata": {
        "id": "JpK2CEx86JZO"
      },
      "source": [
        "**Question 4** \n",
        "\n",
        "Write a program to generate a random 20x3 matrix representing Cartesian coordinates in a\n",
        "three dimensional space and then convert them into spherical coordinates."
      ]
    },
    {
      "cell_type": "code",
      "metadata": {
        "colab": {
          "base_uri": "https://localhost:8080/",
          "height": 295
        },
        "id": "HWYHdUmWa9q1",
        "outputId": "5b74ba6d-6803-4cd7-e22a-6eada9e1d65e"
      },
      "source": [
        "import numpy as np\n",
        "import matplotlib.pyplot as plt\n",
        "\n",
        "x=np.arange(0,10.1,0.1)\n",
        "f_x = np.exp(-x/10)*np.sin(np.pi*x)\n",
        "g_x = np.multiply(x,np.exp(-x/3))\n",
        "\n",
        "plt.plot(x, f_x)\n",
        "plt.plot(x, g_x)\n",
        "plt.xlabel('x axis label')\n",
        "plt.ylabel('y axis label')\n",
        "plt.title('A plot of f(x) and g(x)')\n",
        "plt.legend(['f(x)', 'g(x)'])\n",
        "plt.show()"
      ],
      "execution_count": 111,
      "outputs": [
        {
          "output_type": "display_data",
          "data": {
            "image/png": "[encoded data removed]",
            "text/plain": [
              "<Figure size 432x288 with 1 Axes>"
            ]
          },
          "metadata": {
            "needs_background": "light"
          }
        }
      ]
    },
    {
      "cell_type": "code",
      "metadata": {
        "id": "nrJ7CVXs6V9B"
      },
      "source": [
        ""
      ],
      "execution_count": null,
      "outputs": []
    }
  ]
}